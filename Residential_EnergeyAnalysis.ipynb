{
  "nbformat": 4,
  "nbformat_minor": 0,
  "metadata": {
    "colab": {
      "provenance": [],
      "gpuType": "T4",
      "authorship_tag": "ABX9TyO16FIrFhQ6P0lXFzxG4HDU",
      "include_colab_link": true
    },
    "kernelspec": {
      "name": "python3",
      "display_name": "Python 3"
    },
    "language_info": {
      "name": "python"
    },
    "accelerator": "GPU"
  },
  "cells": [
    {
      "cell_type": "markdown",
      "metadata": {
        "id": "view-in-github",
        "colab_type": "text"
      },
      "source": [
        "<a href=\"https://colab.research.google.com/github/deepikaparasa6/ResidentialEnergyAnalysis/blob/develop/Residential_EnergeyAnalysis.ipynb\" target=\"_parent\"><img src=\"https://colab.research.google.com/assets/colab-badge.svg\" alt=\"Open In Colab\"/></a>"
      ]
    },
    {
      "cell_type": "code",
      "execution_count": null,
      "metadata": {
        "id": "uT5pnXcx00Uh"
      },
      "outputs": [],
      "source": [
        "# ---- Install & Import ----\n",
        "import pandas as pd\n",
        "import matplotlib.pyplot as plt\n",
        "import time\n",
        "from IPython.display import clear_output\n",
        "\n",
        "# ---- Get Sample Dataset ----\n",
        "url = \"https://archive.ics.uci.edu/ml/machine-learning-databases/00235/household_power_consumption.zip\"\n",
        "df = pd.read_csv(url, sep=';', low_memory=False, compression='zip')\n",
        "df.columns = [\"Date\", \"Time\", \"Global_active_power\", \"Global_reactive_power\", \"Voltage\",\n",
        "              \"Global_intensity\", \"Sub_metering_1\", \"Sub_metering_2\", \"Sub_metering_3\"]\n",
        "\n",
        "# Convert relevant columns to numeric\n",
        "for col in [\"Global_active_power\", \"Global_reactive_power\", \"Voltage\",\n",
        "            \"Global_intensity\", \"Sub_metering_1\", \"Sub_metering_2\", \"Sub_metering_3\"]:\n",
        "    df[col] = pd.to_numeric(df[col], errors='coerce')\n",
        "\n",
        "# Combine Date & Time\n",
        "df['datetime'] = pd.to_datetime(df['Date'] + ' ' + df['Time'], format='%d/%m/%Y %H:%M:%S')\n",
        "df = df.drop(['Date', 'Time'], axis=1)\n",
        "df = df.set_index('datetime')\n",
        "\n",
        "# Resample to daily energy consumption\n",
        "daily_usage = df['Global_active_power'].resample('D').sum().dropna()\n",
        "\n",
        "# ---- Simulate Real-Time Dashboard ----\n",
        "usage_data = []\n",
        "dates = []\n",
        "\n",
        "for i in range(min(30, len(daily_usage))):  # show first 30 days\n",
        "    usage_data.append(daily_usage.iloc[i])\n",
        "    dates.append(daily_usage.index[i].strftime('%b %d'))\n",
        "\n",
        "    clear_output(wait=True)\n",
        "    fig, axes = plt.subplots(1, 2, figsize=(12, 4))\n",
        "\n",
        "    # ---- Left: Real-time Line Chart ----\n",
        "    axes[0].plot(dates, usage_data, marker='o', color='blue')\n",
        "    axes[0].set_title(\"Real-Time Energy Usage (Daily)\")\n",
        "    axes[0].set_xlabel(\"Day\")\n",
        "    axes[0].set_ylabel(\"Energy (kWh)\")\n",
        "    axes[0].tick_params(axis='x', rotation=45)\n",
        "    axes[0].grid(True)\n",
        "\n",
        "    # ---- Right: Last 7 Days Bar Chart with Color ----\n",
        "    last_days = dates[-7:]\n",
        "    last_usage = usage_data[-7:]\n",
        "    colors = ['red' if val > max(last_usage)*0.8 else 'green' for val in last_usage]\n",
        "    axes[1].bar(last_days, last_usage, color=colors)\n",
        "    axes[1].set_title(\"Last 7 Days Usage\")\n",
        "    axes[1].set_ylabel(\"Energy (kWh)\")\n",
        "    axes[1].tick_params(axis='x', rotation=45)\n",
        "\n",
        "    plt.tight_layout()\n",
        "    plt.show()\n",
        "\n",
        "    # ---- Print Stats ----\n",
        "    avg_usage = sum(usage_data) / len(usage_data)\n",
        "    total_usage = sum(usage_data)\n",
        "    peak_day = dates[usage_data.index(max(usage_data))]\n",
        "    peak_value = max(usage_data)\n",
        "\n",
        "    print(f\"Day {i+1} usage: {usage_data[-1]:.2f} kWh\")\n",
        "    print(f\"Average so far: {avg_usage:.2f} kWh/day\")\n",
        "    print(f\"Total usage so far: {total_usage:.2f} kWh\")\n",
        "    print(f\"Peak so far: {peak_day} ({peak_value:.2f} kWh)\")\n",
        "\n",
        "    time.sleep(0.5)  # Delay for effect\n",
        "\n",
        "# Final Peak Info\n",
        "if usage_data:\n",
        "    print(f\"\\nFinal Peak Usage: {peak_day} - {peak_value:.2f} kWh\")\n"
      ]
    }
  ]
}